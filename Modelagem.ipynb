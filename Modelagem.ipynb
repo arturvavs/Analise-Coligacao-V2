{
 "cells": [
  {
   "cell_type": "code",
   "execution_count": 1,
   "id": "741fe7d1",
   "metadata": {},
   "outputs": [],
   "source": [
    "import pandas as pd\n",
    "import re"
   ]
  },
  {
   "cell_type": "code",
   "execution_count": 70,
   "id": "3375553c",
   "metadata": {},
   "outputs": [],
   "source": [
    "dataframe = pd.read_excel('Amostras.xlsx')\n",
    "dataframe_teste = pd.read_excel('Dados_Amostra_Teste.xlsx')"
   ]
  },
  {
   "cell_type": "code",
   "execution_count": 59,
   "id": "7506227b",
   "metadata": {},
   "outputs": [],
   "source": [
    "def remove_special_characters(text):\n",
    "        texto_sem_caracteres = re.sub(r'[^a-zA-Z0-9\\s]', '', text)\n",
    "        texto_formatado = re.sub(r'[0-9]', '', texto_sem_caracteres)\n",
    "        return texto_formatado"
   ]
  },
  {
   "cell_type": "code",
   "execution_count": 72,
   "id": "13d6e383",
   "metadata": {},
   "outputs": [],
   "source": [
    "def text_formatt(text):\n",
    "\n",
    "    new_texto = text.split()\n",
    "    pattern = \" \".join(new_texto)\n",
    "    return pattern"
   ]
  },
  {
   "cell_type": "code",
   "execution_count": 73,
   "id": "9f781948",
   "metadata": {},
   "outputs": [],
   "source": [
    "dataframe['DS_EVOLUCAO'] = dataframe['DS_EVOLUCAO'].apply(remove_special_characters)\n",
    "dataframe['DS_EVOLUCAO'] = dataframe['DS_EVOLUCAO'].apply(text_formatt)\n",
    "dataframe.loc[dataframe['VALIDACAO'] == \"SIM\",'VALIDACAO'] = \"S\"\n",
    "dataframe.loc[dataframe['VALIDACAO'] == \"NÃO\",'VALIDACAO'] = \"N\"\n",
    "\n",
    "dataframe_teste['DS_EVOLUCAO'] = dataframe_teste['DS_EVOLUCAO'].apply(remove_special_characters)\n",
    "dataframe_teste['DS_EVOLUCAO'] = dataframe_teste['DS_EVOLUCAO'].apply(text_formatt)\n",
    "#dataframe.head()"
   ]
  },
  {
   "cell_type": "code",
   "execution_count": null,
   "id": "eb4db782",
   "metadata": {},
   "outputs": [],
   "source": [
    "dataframe['VALIDACAO'].value_counts()"
   ]
  },
  {
   "cell_type": "code",
   "execution_count": 77,
   "id": "c5ebc9f3",
   "metadata": {},
   "outputs": [
    {
     "data": {
      "application/vnd.microsoft.datawrangler.viewer.v0+json": {
       "columns": [
        {
         "name": "VALIDACAO",
         "rawType": "object",
         "type": "string"
        },
        {
         "name": "count",
         "rawType": "int64",
         "type": "integer"
        }
       ],
       "ref": "737cd288-9c60-49ac-b06b-804993defe5a",
       "rows": [
        [
         "N",
         "796"
        ],
        [
         "S",
         "230"
        ]
       ],
       "shape": {
        "columns": 1,
        "rows": 2
       }
      },
      "text/plain": [
       "VALIDACAO\n",
       "N    796\n",
       "S    230\n",
       "Name: count, dtype: int64"
      ]
     },
     "execution_count": 77,
     "metadata": {},
     "output_type": "execute_result"
    }
   ],
   "source": [
    "dataframe_teste['VALIDACAO'].value_counts()"
   ]
  },
  {
   "cell_type": "code",
   "execution_count": 75,
   "id": "759421c3",
   "metadata": {},
   "outputs": [],
   "source": [
    "termos = ['TOT','TQT','ENTUBADO','INTUBADO']\n",
    "pattern = \"|\".join(termos)\n",
    "\n",
    "dataframe_conv = dataframe.copy()\n",
    "dataframe_test_conv = dataframe_teste.copy()\n",
    "\n",
    "dataframe_conv.loc[(dataframe_conv['VALIDACAO'] == \"N\") & (dataframe_conv['DS_EVOLUCAO'].str.contains(pattern)),'VALIDACAO'] = 'S'\n",
    "dataframe_test_conv.loc[(dataframe_test_conv['VALIDACAO'] == \"N\") & (dataframe_test_conv['DS_EVOLUCAO'].str.contains(pattern)),'VALIDACAO'] = 'S'"
   ]
  },
  {
   "cell_type": "code",
   "execution_count": 76,
   "id": "7bba615a",
   "metadata": {},
   "outputs": [
    {
     "data": {
      "application/vnd.microsoft.datawrangler.viewer.v0+json": {
       "columns": [
        {
         "name": "VALIDACAO",
         "rawType": "object",
         "type": "string"
        },
        {
         "name": "count",
         "rawType": "int64",
         "type": "integer"
        }
       ],
       "ref": "62d1fa8a-a9bc-43e3-920a-7987b2cc1053",
       "rows": [
        [
         "N",
         "670"
        ],
        [
         "S",
         "356"
        ]
       ],
       "shape": {
        "columns": 1,
        "rows": 2
       }
      },
      "text/plain": [
       "VALIDACAO\n",
       "N    670\n",
       "S    356\n",
       "Name: count, dtype: int64"
      ]
     },
     "execution_count": 76,
     "metadata": {},
     "output_type": "execute_result"
    }
   ],
   "source": [
    "dataframe_test_conv['VALIDACAO'].value_counts()"
   ]
  },
  {
   "cell_type": "code",
   "execution_count": null,
   "id": "7a3fb2aa",
   "metadata": {},
   "outputs": [],
   "source": [
    "dataframe_conv.head()"
   ]
  },
  {
   "cell_type": "code",
   "execution_count": 78,
   "id": "846dc54a",
   "metadata": {},
   "outputs": [],
   "source": [
    "dataframe_conv.to_excel('Amostra_split.xlsx',index=False)\n",
    "dataframe_test_conv.to_excel('Amostra_split_teste.xlsx')\n"
   ]
  }
 ],
 "metadata": {
  "kernelspec": {
   "display_name": "Python 3",
   "language": "python",
   "name": "python3"
  },
  "language_info": {
   "codemirror_mode": {
    "name": "ipython",
    "version": 3
   },
   "file_extension": ".py",
   "mimetype": "text/x-python",
   "name": "python",
   "nbconvert_exporter": "python",
   "pygments_lexer": "ipython3",
   "version": "3.11.9"
  }
 },
 "nbformat": 4,
 "nbformat_minor": 5
}
