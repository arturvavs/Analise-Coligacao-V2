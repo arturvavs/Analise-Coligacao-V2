{
 "cells": [
  {
   "cell_type": "code",
   "execution_count": 74,
   "id": "950274f7",
   "metadata": {},
   "outputs": [],
   "source": [
    "import pandas as pd\n",
    "from datetime import date, datetime\n",
    "import re\n",
    "import os\n",
    "from imblearn.under_sampling import RandomUnderSampler\n",
    "#Carregando arquivo excel em formato dataframe\n",
    "dataframe_original = pd.read_excel('Dados_Tratados/Dados_Tratados_Amostra_02-10-25.xlsx', engine='openpyxl')\n",
    "dataframe_teste = pd.read_excel('Dados_Tratados/Dados_Tratados_Teste_02-10-25.xlsx')\n",
    "dataframe_teste_ajustado = pd.read_excel('Dados_Tratados/Dados_Tratados_Teste_Ajustado_02-10-25.xlsx')\n",
    "\n",
    "#dataframe_original.head(5)"
   ]
  },
  {
   "cell_type": "code",
   "execution_count": 75,
   "id": "a0163ed2",
   "metadata": {},
   "outputs": [
    {
     "data": {
      "text/plain": [
       "VALIDACAO\n",
       "N    601\n",
       "S    601\n",
       "Name: count, dtype: int64"
      ]
     },
     "execution_count": 75,
     "metadata": {},
     "output_type": "execute_result"
    }
   ],
   "source": [
    "X = dataframe_original.drop(\"VALIDACAO\", axis=1)  # features\n",
    "y = dataframe_original[\"VALIDACAO\"]   \n",
    "\n",
    "ros = RandomUnderSampler(random_state=42)\n",
    "\n",
    "X_res, y_res = ros.fit_resample(X, y)\n",
    "\n",
    "df_balanceado = pd.concat([X_res, y_res], axis=1)\n",
    "\n",
    "df_balanceado['VALIDACAO'].value_counts()"
   ]
  },
  {
   "cell_type": "code",
   "execution_count": 85,
   "id": "6622d3b6",
   "metadata": {},
   "outputs": [
    {
     "name": "stdout",
     "output_type": "stream",
     "text": [
      "SVC: 0.96\n",
      "CNB: 0.94\n"
     ]
    }
   ],
   "source": [
    "from sklearn.model_selection import train_test_split\n",
    "from sklearn.pipeline import Pipeline\n",
    "from sklearn.feature_extraction.text import TfidfVectorizer\n",
    "from sklearn.naive_bayes import MultinomialNB, ComplementNB\n",
    "from sklearn.svm import LinearSVC\n",
    "from sklearn.metrics import accuracy_score, classification_report\n",
    "\n",
    "x = df_balanceado['DS_CONTEXTO']\n",
    "y = df_balanceado['VALIDACAO']\n",
    "\n",
    "x_train, x_test, y_train, y_test = train_test_split(x, y, test_size=0.6, random_state=22, train_size=0.4)\n",
    "\n",
    "pipeSVC = Pipeline([\n",
    "    ('tfidf',TfidfVectorizer()),\n",
    "    ('clf', LinearSVC())\n",
    "])\n",
    "\n",
    "pipeCNB = Pipeline([\n",
    "    ('tfidf',TfidfVectorizer()),\n",
    "    ('clf', ComplementNB())\n",
    "])\n",
    "\n",
    "pipeSVC.fit(x_train, y_train)\n",
    "predictSVC = pipeSVC.predict(x_test)\n",
    "accuracy_score(y_test,predictSVC)\n",
    "print(f'SVC: {accuracy_score(y_test,predictSVC):.2f}')\n",
    "\n",
    "pipeCNB.fit(x_train, y_train)\n",
    "predictCNB = pipeCNB.predict(x_test)\n",
    "accuracy_score(y_test,predictCNB)\n",
    "print(f'CNB: {accuracy_score(y_test,predictCNB):.2f}')"
   ]
  },
  {
   "cell_type": "code",
   "execution_count": 86,
   "id": "17747e04",
   "metadata": {},
   "outputs": [],
   "source": [
    "dados_teste = dataframe_teste['DS_CONTEXTO']\n",
    "\n",
    "predictSVC = pipeSVC.predict(dados_teste)\n",
    "\n",
    "predictCNB = pipeCNB.predict(dados_teste)"
   ]
  },
  {
   "cell_type": "code",
   "execution_count": 87,
   "id": "9b89580e",
   "metadata": {},
   "outputs": [],
   "source": [
    "df_classificado = pd.DataFrame({\n",
    "    'DS_EVOLUCAO': dataframe_teste['DS_EVOLUCAO'],\n",
    "    'DS_CONTEXTO': dados_teste,\n",
    "    'VALIDACAO': dataframe_teste['VALIDACAO'],\n",
    "    'PREDICAO_SVC': predictSVC,\n",
    "    'PREDICAO_CNB': predictCNB\n",
    "})"
   ]
  },
  {
   "cell_type": "code",
   "execution_count": 88,
   "id": "939fad04",
   "metadata": {},
   "outputs": [
    {
     "name": "stdout",
     "output_type": "stream",
     "text": [
      "Dados Validacao: VALIDACAO\n",
      "N    796\n",
      "S    230\n",
      "Name: count, dtype: int64\n",
      "Validacao SVC: PREDICAO_SVC\n",
      "N    752\n",
      "S    274\n",
      "Name: count, dtype: int64\n",
      "Validacao CNB: PREDICAO_CNB\n",
      "N    709\n",
      "S    317\n",
      "Name: count, dtype: int64\n"
     ]
    }
   ],
   "source": [
    "print(f\"Dados Validacao: {df_classificado['VALIDACAO'].value_counts()}\")\n",
    "print(f\"Validacao SVC: {df_classificado['PREDICAO_SVC'].value_counts()}\")\n",
    "print(f\"Validacao CNB: {df_classificado['PREDICAO_CNB'].value_counts()}\")"
   ]
  },
  {
   "cell_type": "code",
   "execution_count": 89,
   "id": "79afb607",
   "metadata": {},
   "outputs": [],
   "source": [
    "path = os.path.join('Resultados/')\n",
    "file_name = 'Dados_Resultado_' + f\"{datetime.today().strftime('%d-%m-%y')}\" + \".xlsx\"\n",
    "file_path = path + file_name\n",
    "df_classificado.to_excel(file_path,index=False)"
   ]
  },
  {
   "cell_type": "code",
   "execution_count": 90,
   "id": "ca51ade9",
   "metadata": {},
   "outputs": [],
   "source": [
    "dados_teste_ajustado = dataframe_teste_ajustado['DS_CONTEXTO']\n",
    "\n",
    "predictSVC_ajustado = pipeSVC.predict(dados_teste_ajustado)\n",
    "\n",
    "predictCNB_ajustado = pipeCNB.predict(dados_teste_ajustado)"
   ]
  },
  {
   "cell_type": "code",
   "execution_count": 91,
   "id": "73c0cd5c",
   "metadata": {},
   "outputs": [],
   "source": [
    "df_classificado_ajustado = pd.DataFrame({\n",
    "    'DS_EVOLUCAO': dataframe_teste_ajustado['DS_EVOLUCAO'],\n",
    "    'DS_CONTEXTO': dados_teste_ajustado,\n",
    "    'VALIDACAO': dataframe_teste_ajustado['VALIDACAO'],\n",
    "    'PREDICAO_SVC': predictSVC_ajustado,\n",
    "    'PREDICAO_CNB': predictCNB_ajustado\n",
    "})"
   ]
  },
  {
   "cell_type": "code",
   "execution_count": 92,
   "id": "92a348a4",
   "metadata": {},
   "outputs": [
    {
     "name": "stdout",
     "output_type": "stream",
     "text": [
      "Dados Validacao: VALIDACAO\n",
      "N    714\n",
      "S    312\n",
      "Name: count, dtype: int64\n",
      "Validacao SVC: PREDICAO_SVC\n",
      "N    752\n",
      "S    274\n",
      "Name: count, dtype: int64\n",
      "Validacao CNB: PREDICAO_CNB\n",
      "N    709\n",
      "S    317\n",
      "Name: count, dtype: int64\n"
     ]
    }
   ],
   "source": [
    "print(f\"Dados Validacao: {df_classificado_ajustado['VALIDACAO'].value_counts()}\")\n",
    "print(f\"Validacao SVC: {df_classificado_ajustado['PREDICAO_SVC'].value_counts()}\")\n",
    "print(f\"Validacao CNB: {df_classificado_ajustado['PREDICAO_CNB'].value_counts()}\")"
   ]
  },
  {
   "cell_type": "code",
   "execution_count": 93,
   "id": "e54be672",
   "metadata": {},
   "outputs": [],
   "source": [
    "path = os.path.join('Resultados/')\n",
    "file_name = 'Dados_Resultado_Ajustado' + f\"{datetime.today().strftime('%d-%m-%y')}\" + \".xlsx\"\n",
    "file_path = path + file_name\n",
    "df_classificado_ajustado.to_excel(file_path,index=False)"
   ]
  }
 ],
 "metadata": {
  "kernelspec": {
   "display_name": "Python 3",
   "language": "python",
   "name": "python3"
  },
  "language_info": {
   "codemirror_mode": {
    "name": "ipython",
    "version": 3
   },
   "file_extension": ".py",
   "mimetype": "text/x-python",
   "name": "python",
   "nbconvert_exporter": "python",
   "pygments_lexer": "ipython3",
   "version": "3.13.7"
  }
 },
 "nbformat": 4,
 "nbformat_minor": 5
}
