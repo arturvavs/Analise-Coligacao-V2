{
 "cells": [
  {
   "cell_type": "code",
   "execution_count": null,
   "id": "950274f7",
   "metadata": {},
   "outputs": [],
   "source": [
    "import pandas as pd\n",
    "from datetime import date, datetime\n",
    "import re\n",
    "import os\n",
    "from imblearn.under_sampling import RandomUnderSampler\n",
    "#Carregando arquivo excel em formato dataframe\n",
    "dataframe_original = pd.read_excel('Dados_Tratados/Dados_Tratados_Amostra_02-10-25.xlsx', engine='openpyxl')\n",
    "#dataframe_teste = pd.read_excel('Amostras_Teste.xlsx') \n",
    "\n",
    "#dataframe_original.head(5)"
   ]
  },
  {
   "cell_type": "code",
   "execution_count": 7,
   "id": "a0163ed2",
   "metadata": {},
   "outputs": [
    {
     "data": {
      "text/plain": [
       "VALIDACAO\n",
       "N    606\n",
       "S    606\n",
       "Name: count, dtype: int64"
      ]
     },
     "execution_count": 7,
     "metadata": {},
     "output_type": "execute_result"
    }
   ],
   "source": [
    "X = dataframe_original.drop(\"VALIDACAO\", axis=1)  # features\n",
    "y = dataframe_original[\"VALIDACAO\"]   \n",
    "\n",
    "ros = RandomUnderSampler(random_state=42)\n",
    "\n",
    "X_res, y_res = ros.fit_resample(X, y)\n",
    "\n",
    "df_balanceado = pd.concat([X_res, y_res], axis=1)\n",
    "\n",
    "df_balanceado['VALIDACAO'].value_counts()"
   ]
  },
  {
   "cell_type": "code",
   "execution_count": 10,
   "id": "6622d3b6",
   "metadata": {},
   "outputs": [
    {
     "name": "stdout",
     "output_type": "stream",
     "text": [
      "SVC: 0.96\n",
      "CNB: 0.93\n"
     ]
    }
   ],
   "source": [
    "from sklearn.model_selection import train_test_split\n",
    "from sklearn.pipeline import Pipeline\n",
    "from sklearn.feature_extraction.text import TfidfVectorizer\n",
    "from sklearn.naive_bayes import MultinomialNB, ComplementNB\n",
    "from sklearn.svm import LinearSVC\n",
    "from sklearn.metrics import accuracy_score, classification_report\n",
    "\n",
    "x = df_balanceado['DS_CONTEXTO']\n",
    "y = df_balanceado['VALIDACAO']\n",
    "\n",
    "x_train, x_test, y_train, y_test = train_test_split(x, y, test_size=0.6, random_state=22, train_size=0.4)\n",
    "\n",
    "pipeSVC = Pipeline([\n",
    "    ('tfidf',TfidfVectorizer()),\n",
    "    ('clf', LinearSVC())\n",
    "])\n",
    "\n",
    "pipeCNB = Pipeline([\n",
    "    ('tfidf',TfidfVectorizer()),\n",
    "    ('clf', ComplementNB())\n",
    "])\n",
    "\n",
    "pipeSVC.fit(x_train, y_train)\n",
    "predictSVC = pipeSVC.predict(x_test)\n",
    "accuracy_score(y_test,predictSVC)\n",
    "print(f'SVC: {accuracy_score(y_test,predictSVC):.2f}')\n",
    "\n",
    "pipeCNB.fit(x_train, y_train)\n",
    "predictCNB = pipeCNB.predict(x_test)\n",
    "accuracy_score(y_test,predictCNB)\n",
    "print(f'CNB: {accuracy_score(y_test,predictCNB):.2f}')"
   ]
  }
 ],
 "metadata": {
  "kernelspec": {
   "display_name": "Python 3",
   "language": "python",
   "name": "python3"
  },
  "language_info": {
   "codemirror_mode": {
    "name": "ipython",
    "version": 3
   },
   "file_extension": ".py",
   "mimetype": "text/x-python",
   "name": "python",
   "nbconvert_exporter": "python",
   "pygments_lexer": "ipython3",
   "version": "3.13.7"
  }
 },
 "nbformat": 4,
 "nbformat_minor": 5
}
