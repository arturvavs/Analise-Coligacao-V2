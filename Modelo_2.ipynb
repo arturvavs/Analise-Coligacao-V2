{
 "cells": [
  {
   "cell_type": "code",
   "execution_count": 166,
   "id": "82a9cc6f",
   "metadata": {},
   "outputs": [],
   "source": [
    "import pandas as pd\n",
    "from datetime import date, datetime\n",
    "import re\n",
    "import os\n",
    "#Carregando arquivo excel em formato dataframe\n",
    "dataframe_original = pd.read_excel('Amostras.xlsx', engine='openpyxl') \n",
    "dataframe_teste = pd.read_excel('Dados_Amostra_Teste.xlsx', engine='openpyxl') \n",
    "\n",
    "#dataframe_original.head(5)"
   ]
  },
  {
   "cell_type": "code",
   "execution_count": 167,
   "id": "f050f185",
   "metadata": {},
   "outputs": [],
   "source": [
    "#Separando apenas as colunas 'DS_EVOLUCAO' e 'VALIDACAO'\n",
    "dataframe_formatado = dataframe_original[['DS_EVOLUCAO','VALIDACAO']].copy()\n",
    "#Converto os valores da coluna VALIDACAO SIM para S e NÃO para N\n",
    "dataframe_formatado.loc[dataframe_formatado['VALIDACAO'] == \"SIM\", 'VALIDACAO'] = \"S\"\n",
    "dataframe_formatado.loc[dataframe_formatado['VALIDACAO'] == \"NÃO\", 'VALIDACAO'] = \"N\"\n",
    "#Removo todos os caracteres '?'\n",
    "dataframe_formatado['DS_EVOLUCAO'] = dataframe_formatado['DS_EVOLUCAO'].str.replace(r'[^a-zA-Z0-9\\s]',' ',regex=False) #\n",
    "\n",
    "#dataframe_formatado.head(5)"
   ]
  },
  {
   "cell_type": "code",
   "execution_count": 168,
   "id": "12ec4ee9",
   "metadata": {},
   "outputs": [],
   "source": [
    "dataframe_teste_formatado = dataframe_teste[['DS_EVOLUCAO','VALIDACAO']].copy()\n",
    "\n",
    "dataframe_formatado['DS_EVOLUCAO'] = dataframe_formatado['DS_EVOLUCAO'].str.replace(r'[^a-zA-Z0-9\\s]',' ',regex=False) #\n",
    "dataframe_teste_formatado['DS_EVOLUCAO'] = dataframe_teste_formatado['DS_EVOLUCAO'].str.replace(r'[^a-zA-Z0-9\\s]',' ',regex=False) #\n"
   ]
  },
  {
   "cell_type": "code",
   "execution_count": 169,
   "id": "b3d6f060",
   "metadata": {},
   "outputs": [],
   "source": [
    "def remove_special_characters(texto):\n",
    "    texto_sem_caracteres = re.sub(r'[^a-zA-Z0-9\\s]',' ',texto)\n",
    "    texto_formatado = re.sub(r'[0-9]','',texto_sem_caracteres)\n",
    "    return texto_formatado\n",
    "\n",
    "dataframe_formatado['DS_EVOLUCAO'] = dataframe_formatado['DS_EVOLUCAO'].apply(remove_special_characters)\n",
    "dataframe_teste_formatado['DS_EVOLUCAO'] = dataframe_teste_formatado['DS_EVOLUCAO'].apply(remove_special_characters)"
   ]
  },
  {
   "cell_type": "code",
   "execution_count": 170,
   "id": "1441396c",
   "metadata": {},
   "outputs": [],
   "source": [
    "dicionario_positivos = [\n",
    "    \"ASPIROU\",\"ASPIREI\",\"ASPIRO\",\"ASPIRADO\",\"ASPIRAR\",\n",
    "    \"ASPIRACAO\",\"SECRECAO\",\"TRACHCARE\",\"VAS\",\"TRACH\",\"CARE\",\n",
    "    \"VIAS SUPERIORES\",\"AEREAS\",\"SECRECAO\",\"ASP\",\"SISTEMA FECHADO\",\n",
    "    \"VENTILACAO MECANICA\",\"TOT\",\"TQT\", \"SISTEMA ASPIRACAO\",\"SISTEMA\",\"FECHADO\",\"ENTUBADO\",\"INTUBADO\"\n",
    "]\n",
    "\n",
    "dicionario_negativos = [\n",
    "    \"EUPNEICO\", \"AR AMBIENTE\",\"EUPNEICA\",\n",
    "    \"EUPENEICA\", \"EUPENEICO\", \"EUPONEICO\",\"BRONCOSAPIRACAO\"\n",
    "]\n",
    "\n",
    "stopwords = [\"EM\", \"DE\"]\n",
    "\n",
    "pattern_stopwords = r\"\\b(\" + \"|\".join([re.escape(i) for i in stopwords]) + r\")\\b\"\n",
    "pattern_positivo = r\"\\b(\" + \"|\".join([re.escape(i) for i in dicionario_positivos]) + r\")\\b\"\n",
    "pattern_negativo = \"|\".join([re.escape(i) for i in dicionario_negativos])\n"
   ]
  },
  {
   "cell_type": "code",
   "execution_count": 171,
   "id": "5e8aba1d",
   "metadata": {},
   "outputs": [],
   "source": [
    "#Função para extrair X palavras pré e Y palavras pós a cada termo encontrado na evolução\n",
    "def extrair_contexto_por_palavras(texto, pre=4, pos=3):\n",
    "    if not isinstance(texto, str):\n",
    "        return None\n",
    "    # separa em palavras\n",
    "    palavras = texto.split()\n",
    "    \n",
    "    resultados_positivos = []\n",
    "    resultados_negativos = []\n",
    "\n",
    "    # percorre palavras\n",
    "    i = 0\n",
    "    while i < len(palavras):\n",
    "        # verifica se o termo positivo bate a partir da posição i\n",
    "        for p in palavras:\n",
    "            if p in dicionario_negativos:\n",
    "                resultados_negativos.append(p)\n",
    "        for p in dicionario_positivos:\n",
    "            termo_palavras = p.split()\n",
    "            tamanho = len(termo_palavras)\n",
    "            if palavras[i:i+tamanho] == termo_palavras:\n",
    "                # pega 'pre' palavras antes e 'pos' palavras depois\n",
    "                inicio = max(0, i - pre)\n",
    "                fim = min(len(palavras), i + tamanho + pos)\n",
    "                contexto = \" \".join(palavras[inicio:fim])\n",
    "                resultados_positivos.append(contexto)\n",
    "                i += tamanho - 1  # pula as palavras do termo encontrado\n",
    "                break\n",
    "        i += 1\n",
    "    if resultados_positivos:\n",
    "     return \" \".join(resultados_positivos)\n",
    "\n",
    "    elif resultados_positivos:\n",
    "        return \" \".join(resultados_negativos)\n",
    "    else:\n",
    "        return \" \".join(palavras)"
   ]
  },
  {
   "cell_type": "code",
   "execution_count": 172,
   "id": "105c49d5",
   "metadata": {},
   "outputs": [],
   "source": [
    "dataframe_formatado['DS_CONTEXTO'] = dataframe_formatado['DS_EVOLUCAO'].apply(extrair_contexto_por_palavras)\n",
    "\n",
    "dataframe_teste_formatado['DS_CONTEXTO'] = dataframe_teste_formatado['DS_EVOLUCAO'].apply(extrair_contexto_por_palavras)\n",
    "\n"
   ]
  },
  {
   "cell_type": "code",
   "execution_count": 173,
   "id": "bcde82fc",
   "metadata": {},
   "outputs": [
    {
     "data": {
      "text/plain": [
       "VALIDACAO\n",
       "N    796\n",
       "S    230\n",
       "Name: count, dtype: int64"
      ]
     },
     "execution_count": 173,
     "metadata": {},
     "output_type": "execute_result"
    }
   ],
   "source": [
    "dataframe_formatado['VALIDACAO'].value_counts()\n",
    "dataframe_teste_formatado['VALIDACAO'].value_counts()"
   ]
  },
  {
   "cell_type": "code",
   "execution_count": 174,
   "id": "6c74ea16",
   "metadata": {},
   "outputs": [],
   "source": [
    "termo_a_mudar = [\"TOT\",'TQT']\n",
    "padrao = \"|\".join(termo_a_mudar)\n",
    "dataframe_editar = dataframe_formatado.copy()\n",
    "dataframe_editar.loc[(dataframe_editar['VALIDACAO'] == 'N') &\n",
    "                        (dataframe_editar['DS_CONTEXTO'].str.contains(padrao)), 'VALIDACAO'] = \"S\""
   ]
  },
  {
   "cell_type": "code",
   "execution_count": 175,
   "id": "83f1844e",
   "metadata": {},
   "outputs": [],
   "source": [
    "dataframe_teste_mudar = dataframe_teste_formatado.copy()\n",
    "dataframe_teste_mudar.loc[(dataframe_teste_mudar['VALIDACAO'] == 'N') &\n",
    "                        (dataframe_teste_mudar['DS_CONTEXTO'].str.contains(padrao)), 'VALIDACAO'] = \"S\""
   ]
  },
  {
   "cell_type": "code",
   "execution_count": 176,
   "id": "7b5cac6e",
   "metadata": {},
   "outputs": [
    {
     "data": {
      "text/plain": [
       "VALIDACAO\n",
       "N    982\n",
       "S    601\n",
       "Name: count, dtype: int64"
      ]
     },
     "execution_count": 176,
     "metadata": {},
     "output_type": "execute_result"
    }
   ],
   "source": [
    "dataframe_editar['VALIDACAO'].value_counts()"
   ]
  },
  {
   "cell_type": "code",
   "execution_count": 177,
   "id": "eabca2f8",
   "metadata": {},
   "outputs": [],
   "source": [
    "\n",
    "path = os.path.join('Dados_Tratados/')\n",
    "file_name = 'Dados_Tratados_Amostra_' + f\"{datetime.today().strftime('%d-%m-%y')}\" + \".xlsx\"\n",
    "file_path = path + file_name\n",
    "dataframe_editar.to_excel(file_path,index=False)"
   ]
  },
  {
   "cell_type": "code",
   "execution_count": 178,
   "id": "f85becfe",
   "metadata": {},
   "outputs": [],
   "source": [
    "\n",
    "path = os.path.join('Dados_Tratados/')\n",
    "file_name = 'Dados_Tratados_Teste_' + f\"{datetime.today().strftime('%d-%m-%y')}\" + \".xlsx\"\n",
    "file_path = path + file_name\n",
    "dataframe_teste_formatado.to_excel(file_path,index=False)"
   ]
  },
  {
   "cell_type": "code",
   "execution_count": 179,
   "id": "bca79a52",
   "metadata": {},
   "outputs": [],
   "source": [
    "path = os.path.join('Dados_Tratados/')\n",
    "file_name = 'Dados_Tratados_Teste_Ajustado_' + f\"{datetime.today().strftime('%d-%m-%y')}\" + \".xlsx\"\n",
    "file_path = path + file_name\n",
    "dataframe_teste_mudar.to_excel(file_path,index=False)"
   ]
  }
 ],
 "metadata": {
  "kernelspec": {
   "display_name": "Python 3",
   "language": "python",
   "name": "python3"
  },
  "language_info": {
   "codemirror_mode": {
    "name": "ipython",
    "version": 3
   },
   "file_extension": ".py",
   "mimetype": "text/x-python",
   "name": "python",
   "nbconvert_exporter": "python",
   "pygments_lexer": "ipython3",
   "version": "3.13.7"
  }
 },
 "nbformat": 4,
 "nbformat_minor": 5
}
