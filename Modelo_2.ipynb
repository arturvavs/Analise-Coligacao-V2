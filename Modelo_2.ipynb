{
 "cells": [
  {
   "cell_type": "code",
   "execution_count": 63,
   "id": "82a9cc6f",
   "metadata": {},
   "outputs": [
    {
     "data": {
      "text/html": [
       "<div>\n",
       "<style scoped>\n",
       "    .dataframe tbody tr th:only-of-type {\n",
       "        vertical-align: middle;\n",
       "    }\n",
       "\n",
       "    .dataframe tbody tr th {\n",
       "        vertical-align: top;\n",
       "    }\n",
       "\n",
       "    .dataframe thead th {\n",
       "        text-align: right;\n",
       "    }\n",
       "</style>\n",
       "<table border=\"1\" class=\"dataframe\">\n",
       "  <thead>\n",
       "    <tr style=\"text-align: right;\">\n",
       "      <th></th>\n",
       "      <th>CD_EVOLUCAO</th>\n",
       "      <th>NR_ATENDIMENTO</th>\n",
       "      <th>NM_USUARIO</th>\n",
       "      <th>DS_EVOLUCAO</th>\n",
       "      <th>VALIDACAO</th>\n",
       "    </tr>\n",
       "  </thead>\n",
       "  <tbody>\n",
       "    <tr>\n",
       "      <th>0</th>\n",
       "      <td>7560322</td>\n",
       "      <td>818153</td>\n",
       "      <td>DIANA.SOUSA</td>\n",
       "      <td>ANOTACAO ???DE ENFERMAGEM - NOTURNO PACIENTE E...</td>\n",
       "      <td>NÃO</td>\n",
       "    </tr>\n",
       "    <tr>\n",
       "      <th>1</th>\n",
       "      <td>7560345</td>\n",
       "      <td>818153</td>\n",
       "      <td>LUCIANA.FEITOSA</td>\n",
       "      <td>EVOLUCAO DE FISIOTERAPIANOITE\\n EM IH POR:- IT...</td>\n",
       "      <td>SIM</td>\n",
       "    </tr>\n",
       "    <tr>\n",
       "      <th>2</th>\n",
       "      <td>7561867</td>\n",
       "      <td>818153</td>\n",
       "      <td>AMANDA.NUNES</td>\n",
       "      <td>EVOLUCAO DE ENFERMAGEM - UTI CLINICA I - DIURN...</td>\n",
       "      <td>SIM</td>\n",
       "    </tr>\n",
       "    <tr>\n",
       "      <th>3</th>\n",
       "      <td>7561917</td>\n",
       "      <td>818153</td>\n",
       "      <td>KAROLYNE.FREIRE</td>\n",
       "      <td>EVOLUCAO DE FISIOTERAPIAMANHA\\n EM IH POR:- IT...</td>\n",
       "      <td>SIM</td>\n",
       "    </tr>\n",
       "    <tr>\n",
       "      <th>4</th>\n",
       "      <td>7562674</td>\n",
       "      <td>818153</td>\n",
       "      <td>MARTILIANA.LIMA</td>\n",
       "      <td>PLANTAO MTEM INTERNACAO NA UTI CLINICA I POR S...</td>\n",
       "      <td>NÃO</td>\n",
       "    </tr>\n",
       "  </tbody>\n",
       "</table>\n",
       "</div>"
      ],
      "text/plain": [
       "   CD_EVOLUCAO  NR_ATENDIMENTO       NM_USUARIO  \\\n",
       "0      7560322          818153      DIANA.SOUSA   \n",
       "1      7560345          818153  LUCIANA.FEITOSA   \n",
       "2      7561867          818153     AMANDA.NUNES   \n",
       "3      7561917          818153  KAROLYNE.FREIRE   \n",
       "4      7562674          818153  MARTILIANA.LIMA   \n",
       "\n",
       "                                         DS_EVOLUCAO VALIDACAO  \n",
       "0  ANOTACAO ???DE ENFERMAGEM - NOTURNO PACIENTE E...       NÃO  \n",
       "1  EVOLUCAO DE FISIOTERAPIANOITE\\n EM IH POR:- IT...       SIM  \n",
       "2  EVOLUCAO DE ENFERMAGEM - UTI CLINICA I - DIURN...       SIM  \n",
       "3  EVOLUCAO DE FISIOTERAPIAMANHA\\n EM IH POR:- IT...       SIM  \n",
       "4  PLANTAO MTEM INTERNACAO NA UTI CLINICA I POR S...       NÃO  "
      ]
     },
     "execution_count": 63,
     "metadata": {},
     "output_type": "execute_result"
    }
   ],
   "source": [
    "import pandas as pd\n",
    "from datetime import date, datetime\n",
    "import re\n",
    "import os\n",
    "#Carregando arquivo excel em formato dataframe\n",
    "dataframe_original = pd.read_excel('Amostras.xlsx', engine='openpyxl') \n",
    "\n",
    "dataframe_original.head(5)"
   ]
  },
  {
   "cell_type": "code",
   "execution_count": 64,
   "id": "f050f185",
   "metadata": {},
   "outputs": [
    {
     "data": {
      "text/html": [
       "<div>\n",
       "<style scoped>\n",
       "    .dataframe tbody tr th:only-of-type {\n",
       "        vertical-align: middle;\n",
       "    }\n",
       "\n",
       "    .dataframe tbody tr th {\n",
       "        vertical-align: top;\n",
       "    }\n",
       "\n",
       "    .dataframe thead th {\n",
       "        text-align: right;\n",
       "    }\n",
       "</style>\n",
       "<table border=\"1\" class=\"dataframe\">\n",
       "  <thead>\n",
       "    <tr style=\"text-align: right;\">\n",
       "      <th></th>\n",
       "      <th>DS_EVOLUCAO</th>\n",
       "      <th>VALIDACAO</th>\n",
       "    </tr>\n",
       "  </thead>\n",
       "  <tbody>\n",
       "    <tr>\n",
       "      <th>0</th>\n",
       "      <td>ANOTACAO DE ENFERMAGEM - NOTURNO PACIENTE EVOL...</td>\n",
       "      <td>0</td>\n",
       "    </tr>\n",
       "    <tr>\n",
       "      <th>1</th>\n",
       "      <td>EVOLUCAO DE FISIOTERAPIANOITE\\n EM IH POR:- IT...</td>\n",
       "      <td>1</td>\n",
       "    </tr>\n",
       "    <tr>\n",
       "      <th>2</th>\n",
       "      <td>EVOLUCAO DE ENFERMAGEM - UTI CLINICA I - DIURN...</td>\n",
       "      <td>1</td>\n",
       "    </tr>\n",
       "    <tr>\n",
       "      <th>3</th>\n",
       "      <td>EVOLUCAO DE FISIOTERAPIAMANHA\\n EM IH POR:- IT...</td>\n",
       "      <td>1</td>\n",
       "    </tr>\n",
       "    <tr>\n",
       "      <th>4</th>\n",
       "      <td>PLANTAO MTEM INTERNACAO NA UTI CLINICA I POR S...</td>\n",
       "      <td>0</td>\n",
       "    </tr>\n",
       "  </tbody>\n",
       "</table>\n",
       "</div>"
      ],
      "text/plain": [
       "                                         DS_EVOLUCAO VALIDACAO\n",
       "0  ANOTACAO DE ENFERMAGEM - NOTURNO PACIENTE EVOL...         0\n",
       "1  EVOLUCAO DE FISIOTERAPIANOITE\\n EM IH POR:- IT...         1\n",
       "2  EVOLUCAO DE ENFERMAGEM - UTI CLINICA I - DIURN...         1\n",
       "3  EVOLUCAO DE FISIOTERAPIAMANHA\\n EM IH POR:- IT...         1\n",
       "4  PLANTAO MTEM INTERNACAO NA UTI CLINICA I POR S...         0"
      ]
     },
     "execution_count": 64,
     "metadata": {},
     "output_type": "execute_result"
    }
   ],
   "source": [
    "#Separando apenas as colunas 'DS_EVOLUCAO' e 'VALIDACAO'\n",
    "dataframe_formatado = dataframe_original[['DS_EVOLUCAO','VALIDACAO']].copy()\n",
    "#Converto os valores da coluna VALIDACAO SIM para 1 e NÃO para 0\n",
    "dataframe_formatado.loc[dataframe_formatado['VALIDACAO'] == \"SIM\", 'VALIDACAO'] = 1\n",
    "dataframe_formatado.loc[dataframe_formatado['VALIDACAO'] == \"NÃO\", 'VALIDACAO'] = 0\n",
    "#Removo todos os caracteres '?'\n",
    "dataframe_formatado['DS_EVOLUCAO'] = dataframe_formatado['DS_EVOLUCAO'].str.replace('?','',regex=False) #\n",
    "\n",
    "dataframe_formatado.head(5)"
   ]
  },
  {
   "cell_type": "code",
   "execution_count": 73,
   "id": "1441396c",
   "metadata": {},
   "outputs": [
    {
     "name": "stdout",
     "output_type": "stream",
     "text": [
      "\\b(ASPIROU|ASPIREI|ASPIRO|ASPIRADO|ASPIRAR|ASPIRACAO|SECRECAO|TRACHCARE|VAS|TRACH|CARE|VIAS\\ SUPERIORES|AEREAS|SECRECAO|ASP)\\b\n"
     ]
    }
   ],
   "source": [
    "dicionario_termos = [\n",
    "    \"ASPIROU\",\"ASPIREI\",\"ASPIRO\",\"ASPIRADO\",\"ASPIRAR\",\n",
    "    \"ASPIRACAO\",\"SECRECAO\",\"TRACHCARE\",\"VAS\",\"TRACH\",\"CARE\",\n",
    "    \"VIAS SUPERIORES\",\"AEREAS\",\"SECRECAO\",\"ASP\"\n",
    "]\n",
    "\n",
    "pattern = r\"\\b(\" + \"|\".join([re.escape(i) for i in dicionario_termos]) + r\")\\b\"\n",
    "print(pattern)"
   ]
  },
  {
   "cell_type": "code",
   "execution_count": 75,
   "id": "eabca2f8",
   "metadata": {},
   "outputs": [
    {
     "name": "stderr",
     "output_type": "stream",
     "text": [
      "C:\\Users\\Artur\\AppData\\Local\\Temp\\ipykernel_28900\\2278312639.py:1: UserWarning: This pattern is interpreted as a regular expression, and has match groups. To actually get the groups, use str.extract.\n",
      "  dataframe_filtrado = dataframe_formatado[dataframe_formatado['DS_EVOLUCAO'].str.contains(pattern, regex=True)]\n"
     ]
    }
   ],
   "source": [
    "dataframe_filtrado = dataframe_formatado[dataframe_formatado['DS_EVOLUCAO'].str.contains(pattern, regex=True)]\n",
    "path = os.path.join('Dados_Tratados/')\n",
    "file_name = 'Dados_Tratados_' + f\"{datetime.today().strftime('%d-%m-%y')}\" + \".xlsx\"\n",
    "file_path = path + file_name\n",
    "dataframe_filtrado.to_excel(file_path)"
   ]
  },
  {
   "cell_type": "code",
   "execution_count": null,
   "id": "f85becfe",
   "metadata": {},
   "outputs": [],
   "source": []
  }
 ],
 "metadata": {
  "kernelspec": {
   "display_name": "Python 3",
   "language": "python",
   "name": "python3"
  },
  "language_info": {
   "codemirror_mode": {
    "name": "ipython",
    "version": 3
   },
   "file_extension": ".py",
   "mimetype": "text/x-python",
   "name": "python",
   "nbconvert_exporter": "python",
   "pygments_lexer": "ipython3",
   "version": "3.13.7"
  }
 },
 "nbformat": 4,
 "nbformat_minor": 5
}
